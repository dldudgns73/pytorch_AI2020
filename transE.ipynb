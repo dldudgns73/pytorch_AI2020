{
  "nbformat": 4,
  "nbformat_minor": 0,
  "metadata": {
    "colab": {
      "name": "transE.ipynb",
      "provenance": [],
      "collapsed_sections": []
    },
    "kernelspec": {
      "name": "python3",
      "display_name": "Python 3"
    }
  },
  "cells": [
    {
      "cell_type": "markdown",
      "metadata": {
        "id": "fknHs0U8q2Bj"
      },
      "source": [
        "# **개체 (Entity)**\n",
        "\n",
        "정의 : 인간의 개념 또는 정보의 세계에서 의미있는 하나의 정보 단위\n",
        "\n",
        "EX) 위키피디아의 페이지\n",
        "[거미(가수)](https://https://ko.wikipedia.org/wiki/%EA%B1%B0%EB%AF%B8_(%EA%B0%80%EC%88%98))\n",
        "\n",
        "[그림]\n",
        "\n",
        "이러한 개체들의 관계를 이용하여 Triple, 그래프의 형태로 표현이 가능\n",
        "\n",
        "**<개체 1, 관계, 개체 2>**\n",
        "\n",
        "**<Subject, Relation, Object>**\n",
        "\n",
        "**<Head, Predicate, Tail>**\n",
        "\n",
        "**EX)**\n",
        "\n",
        "**<거미, 성별, 여자>**\n",
        "\n",
        "**<거미, 직업, 가수>**\n",
        "\n",
        "**<거미, 배우자, 조정석>**\n",
        "\n",
        "**...**\n",
        "\n",
        "[그림]\n",
        "\n",
        "# **TransE**\n",
        "\n",
        "그래프 임베딩의 한 방법 (Translation-based)\n",
        "\n",
        "모든 개체와 관계에 대해서 Subject + Relation = Object가 되도록 모델을 학습\n",
        "\n",
        "[수식]\n",
        "\n",
        "[그림]\n",
        "\n",
        "##Negative Sampling\n",
        "\n",
        "TransE 모델을 학습하기 위한 방법\n",
        "\n",
        "정답(Positive) Triple과 오답(Negative) Triple의 거리가 멀어지도록 학습\n",
        "\n",
        "[그림]\n",
        "\n",
        "# **Link Prediction**\n",
        "\n",
        "<Subject, Relation, X> 혹은 <X, Relation, Object>가 주어졌을 때, X에 해당하는 개체를 찾는 문제\n"
      ]
    }
  ]
}